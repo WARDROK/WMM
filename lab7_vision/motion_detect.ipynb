{
 "cells": [
  {
   "cell_type": "code",
   "execution_count": 23,
   "id": "ffc6b732",
   "metadata": {},
   "outputs": [],
   "source": [
    "import cv2\n",
    "\n",
    "# Inicjalizacja kamery\n",
    "video = cv2.VideoCapture(0)\n",
    "\n",
    "# Tworzymy model tła\n",
    "back_sub = cv2.createBackgroundSubtractorMOG2(history=100, varThreshold=10, detectShadows=True)\n",
    "\n",
    "while True:\n",
    "    ret, frame = video.read()\n",
    "    if not ret:\n",
    "        break\n",
    "\n",
    "    # Obróć obraz (opcjonalnie)\n",
    "    frame = cv2.flip(frame, 1)\n",
    "\n",
    "    # Wydziel tło\n",
    "    fg_mask = back_sub.apply(frame)\n",
    "\n",
    "    # Przefiltruj obraz (usuń szumy)\n",
    "    kernel = cv2.getStructuringElement(cv2.MORPH_ELLIPSE, (5, 5))\n",
    "    fg_mask = cv2.morphologyEx(fg_mask, cv2.MORPH_OPEN, kernel)\n",
    "\n",
    "    # Znajdź kontury ruchu\n",
    "    contours, _ = cv2.findContours(fg_mask, cv2.RETR_EXTERNAL, cv2.CHAIN_APPROX_SIMPLE)\n",
    "\n",
    "    for contour in contours:\n",
    "        if cv2.contourArea(contour) < 1:\n",
    "            continue\n",
    "        (x, y, w, h) = cv2.boundingRect(contour)\n",
    "        cv2.rectangle(frame, (x, y), (x + w, y + h), (0, 255, 0), 2)\n",
    "\n",
    "    # Wyświetl wynik\n",
    "    cv2.imshow(\"Ruch\", frame)\n",
    "    cv2.imshow(\"Maska ruchu\", fg_mask)\n",
    "\n",
    "    key = cv2.waitKey(30)\n",
    "    if key == ord('q'):\n",
    "        break\n",
    "\n",
    "video.release()\n",
    "cv2.destroyAllWindows()\n"
   ]
  }
 ],
 "metadata": {
  "kernelspec": {
   "display_name": "venv",
   "language": "python",
   "name": "python3"
  },
  "language_info": {
   "codemirror_mode": {
    "name": "ipython",
    "version": 3
   },
   "file_extension": ".py",
   "mimetype": "text/x-python",
   "name": "python",
   "nbconvert_exporter": "python",
   "pygments_lexer": "ipython3",
   "version": "3.12.0"
  }
 },
 "nbformat": 4,
 "nbformat_minor": 5
}
